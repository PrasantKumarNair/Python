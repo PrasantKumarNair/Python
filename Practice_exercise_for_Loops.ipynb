{
  "nbformat": 4,
  "nbformat_minor": 0,
  "metadata": {
    "colab": {
      "name": "Practice exercise for Loops.ipynb",
      "provenance": [],
      "collapsed_sections": [],
      "authorship_tag": "ABX9TyPQDJRl9gHvL5Jxs1Vl7hV/",
      "include_colab_link": true
    },
    "kernelspec": {
      "name": "python3",
      "display_name": "Python 3"
    },
    "language_info": {
      "name": "python"
    }
  },
  "cells": [
    {
      "cell_type": "markdown",
      "metadata": {
        "id": "view-in-github",
        "colab_type": "text"
      },
      "source": [
        "<a href=\"https://colab.research.google.com/github/PrasantKumarNair/Python/blob/main/Practice_exercise_for_Loops.ipynb\" target=\"_parent\"><img src=\"https://colab.research.google.com/assets/colab-badge.svg\" alt=\"Open In Colab\"/></a>"
      ]
    },
    {
      "cell_type": "code",
      "metadata": {
        "colab": {
          "base_uri": "https://localhost:8080/"
        },
        "id": "YwDpalc3AQuu",
        "outputId": "29840b7d-6f15-4418-fa36-dd0837a89daf"
      },
      "source": [
        "# Print First 10 natural numbers using while loop\n",
        "# natural_numbers = int(input(\"Enter the number: \"))\n",
        "i=1\n",
        "while i <= 10:\n",
        "  print(i,end=' ')\n",
        "  i=i+1\n"
      ],
      "execution_count": null,
      "outputs": [
        {
          "output_type": "stream",
          "text": [
            "1 2 3 4 5 6 7 8 9 10 "
          ],
          "name": "stdout"
        }
      ]
    },
    {
      "cell_type": "code",
      "metadata": {
        "colab": {
          "base_uri": "https://localhost:8080/"
        },
        "id": "z1175SjBCIDk",
        "outputId": "221ed0c6-e195-480a-dcd3-a93ed85a5c79"
      },
      "source": [
        "# Print the following pattern\n",
        "# 1 \n",
        "# 1 2 \n",
        "# 1 2 3 \n",
        "# 1 2 3 4 \n",
        "# 1 2 3 4 5\n",
        "\n",
        "i=1\n",
        "while i<=5:\n",
        "  j=1\n",
        "  while j<=i:\n",
        "    print(j,end=' ')\n",
        "    j+=1\n",
        "  i+=1\n",
        "  print('\\n')\n"
      ],
      "execution_count": null,
      "outputs": [
        {
          "output_type": "stream",
          "text": [
            "1 \n",
            "\n",
            "1 2 \n",
            "\n",
            "1 2 3 \n",
            "\n",
            "1 2 3 4 \n",
            "\n",
            "1 2 3 4 5 \n",
            "\n"
          ],
          "name": "stdout"
        }
      ]
    },
    {
      "cell_type": "code",
      "metadata": {
        "colab": {
          "base_uri": "https://localhost:8080/"
        },
        "id": "vGwkyy0WCPq6",
        "outputId": "cef7ffdf-9c3e-4f1d-cf12-8eb0c0c9ff16"
      },
      "source": [
        "# Accept number from user and calculate the sum of all number from 1 to a given number\n",
        "user_input = int(input('Enter a number: '))\n",
        "i=1\n",
        "sum=0\n",
        "while i<=user_input:\n",
        "  sum+=i\n",
        "  i+=1\n",
        "  \n",
        "print(f\"The sum is {sum}\")"
      ],
      "execution_count": null,
      "outputs": [
        {
          "output_type": "stream",
          "text": [
            "Enter a number: 3\n",
            "The sum is 6\n"
          ],
          "name": "stdout"
        }
      ]
    },
    {
      "cell_type": "code",
      "metadata": {
        "colab": {
          "base_uri": "https://localhost:8080/"
        },
        "id": "YHPSl3WACUjq",
        "outputId": "1a1327d7-fec9-48d9-a4c1-df47e2d384cf"
      },
      "source": [
        "# Print multiplication table of a given number using while loop\n",
        "user_number = int(input(\"Enter a number: \"))\n",
        "i=1\n",
        "while i<=10:\n",
        "  print(f\"{user_number}x{i}={user_number*i}\")\n",
        "  i+=1"
      ],
      "execution_count": null,
      "outputs": [
        {
          "output_type": "stream",
          "text": [
            "Enter a number: 2\n",
            "2x1=2\n",
            "2x2=4\n",
            "2x3=6\n",
            "2x4=8\n",
            "2x5=10\n",
            "2x6=12\n",
            "2x7=14\n",
            "2x8=16\n",
            "2x9=18\n",
            "2x10=20\n"
          ],
          "name": "stdout"
        }
      ]
    },
    {
      "cell_type": "code",
      "metadata": {
        "colab": {
          "base_uri": "https://localhost:8080/"
        },
        "id": "ZjiaArt1Pmw-",
        "outputId": "cd1c3b6f-c1bd-4307-a4a8-ffdb6cd87949"
      },
      "source": [
        "# Print multiplication table of a given number using for loop\n",
        "user_input=int(input('Enter a number: '))\n",
        "for z in range(1,11):\n",
        "    print(f\"Multiplication of {user_input}x{z}={user_input*z}\")\n",
        "  \n"
      ],
      "execution_count": null,
      "outputs": [
        {
          "output_type": "stream",
          "text": [
            "Enter a number: 4\n",
            "Multiplication of 4x1=4\n",
            "Multiplication of 4x2=8\n",
            "Multiplication of 4x3=12\n",
            "Multiplication of 4x4=16\n",
            "Multiplication of 4x5=20\n",
            "Multiplication of 4x6=24\n",
            "Multiplication of 4x7=28\n",
            "Multiplication of 4x8=32\n",
            "Multiplication of 4x9=36\n",
            "Multiplication of 4x10=40\n"
          ],
          "name": "stdout"
        }
      ]
    },
    {
      "cell_type": "code",
      "metadata": {
        "id": "OSf9RDxeCU8z",
        "colab": {
          "base_uri": "https://localhost:8080/"
        },
        "outputId": "1bea0186-1437-47dc-a438-382c944b45aa"
      },
      "source": [
        "# Given a list, iterate it, and display numbers divisible by five, and if you find a number greater than 150, stop the loop iteration.\n",
        "input_list = []\n",
        "n=int(input('Enter no. of elements: '))\n",
        "for z in range(0,n):\n",
        "  elem_list = int(input())\n",
        "  if (elem_list%5==0) and (elem_list<=150):\n",
        "    input_list.append(elem_list)\n",
        "  elif (elem_list>150):\n",
        "    break\n",
        "print(f\"{input_list}\")\n",
        "  "
      ],
      "execution_count": null,
      "outputs": [
        {
          "output_type": "stream",
          "text": [
            "Enter no. of elements: 6\n",
            "5\n",
            "164\n",
            "[5]\n"
          ],
          "name": "stdout"
        }
      ]
    },
    {
      "cell_type": "code",
      "metadata": {
        "id": "9bOq0FVqCVka",
        "colab": {
          "base_uri": "https://localhost:8080/"
        },
        "outputId": "daa76a78-7ce0-4fc9-dec5-1643cc468f2e"
      },
      "source": [
        "# Print the following pattern using loop\n",
        "# 5 4 3 2 1 \n",
        "# 4 3 2 1 \n",
        "# 3 2 1 \n",
        "# 2 1 \n",
        "# 1\n",
        " \n",
        "i=5\n",
        "while i>=1:\n",
        "  j=i\n",
        "  while j>=1:\n",
        "    print(j,end=' ')\n",
        "    j=j-1\n",
        "  print('\\n')\n",
        "  i=i-1\n",
        "\n",
        "\n",
        "\n"
      ],
      "execution_count": null,
      "outputs": [
        {
          "output_type": "stream",
          "text": [
            "5 4 3 2 1 \n",
            "\n",
            "4 3 2 1 \n",
            "\n",
            "3 2 1 \n",
            "\n",
            "2 1 \n",
            "\n",
            "1 \n",
            "\n"
          ],
          "name": "stdout"
        }
      ]
    },
    {
      "cell_type": "code",
      "metadata": {
        "id": "VRXXVbRQCVzV",
        "colab": {
          "base_uri": "https://localhost:8080/"
        },
        "outputId": "dbd2e4f7-d228-494a-8e3a-d8c93e5dc126"
      },
      "source": [
        "# Reverse the following list using for loop\n",
        "list1 = [10, 20, 30, 40, 50]\n",
        "list1.reverse()\n",
        "print(list1)\n"
      ],
      "execution_count": null,
      "outputs": [
        {
          "output_type": "stream",
          "text": [
            "[50, 40, 30, 20, 10]\n"
          ],
          "name": "stdout"
        }
      ]
    },
    {
      "cell_type": "code",
      "metadata": {
        "id": "qeatVZJJCWPm",
        "colab": {
          "base_uri": "https://localhost:8080/"
        },
        "outputId": "adbe7cba-9f7c-4a47-c5fd-5d9e4a331d2e"
      },
      "source": [
        "# Display numbers from -10 to -1 using for loop\n",
        "x = list(range(-10,0))\n",
        "print(x)"
      ],
      "execution_count": null,
      "outputs": [
        {
          "output_type": "stream",
          "text": [
            "[-10, -9, -8, -7, -6, -5, -4, -3, -2, -1]\n"
          ],
          "name": "stdout"
        }
      ]
    },
    {
      "cell_type": "code",
      "metadata": {
        "id": "p3l8Yq2HCtd-",
        "colab": {
          "base_uri": "https://localhost:8080/"
        },
        "outputId": "4b62720d-58a6-4555-9283-c077aa330cc1"
      },
      "source": [
        "# Display a message “Done” after successful execution of for loop\n",
        "for i in range(1):\n",
        "  print('Done')"
      ],
      "execution_count": null,
      "outputs": [
        {
          "output_type": "stream",
          "text": [
            "Done\n"
          ],
          "name": "stdout"
        }
      ]
    },
    {
      "cell_type": "code",
      "metadata": {
        "id": "gvuVuN3-CwkE",
        "colab": {
          "base_uri": "https://localhost:8080/"
        },
        "outputId": "c0d8d2b0-980b-441c-ebfb-22a39e4319d8"
      },
      "source": [
        "# Write a program to display all prime numbers within a range\n",
        "# range_input = int(input())\n",
        "for i in range(2,10):\n",
        "  count=0\n",
        "  for j in range(2,i+1):\n",
        "    if i%j==0:\n",
        "      count+=1\n",
        "      if count>1:\n",
        "        print(i) \n",
        "\n"
      ],
      "execution_count": null,
      "outputs": [
        {
          "output_type": "stream",
          "text": [
            "4\n",
            "6\n",
            "6\n",
            "8\n",
            "8\n",
            "9\n"
          ],
          "name": "stdout"
        }
      ]
    },
    {
      "cell_type": "code",
      "metadata": {
        "colab": {
          "base_uri": "https://localhost:8080/"
        },
        "id": "BdWIONcDJADh",
        "outputId": "b49c7b1b-42e4-413f-da11-214fdda9c7fd"
      },
      "source": [
        "i=2\n",
        "while i<15:\n",
        "  count=0\n",
        "  j=2\n",
        "  while j<=i:\n",
        "    if i%j==0:\n",
        "      count=count+1\n",
        "    j=j+1\n",
        "      \n",
        "  i=i+1\n",
        "  if count>1:\n",
        "    print(j)"
      ],
      "execution_count": null,
      "outputs": [
        {
          "output_type": "stream",
          "text": [
            "5\n",
            "7\n",
            "9\n",
            "10\n",
            "11\n",
            "13\n",
            "15\n"
          ],
          "name": "stdout"
        }
      ]
    },
    {
      "cell_type": "code",
      "metadata": {
        "id": "OKJeXJiaCy8k",
        "colab": {
          "base_uri": "https://localhost:8080/"
        },
        "outputId": "ed29ce95-28c3-40ec-8018-ffc5ca5a3c0e"
      },
      "source": [
        "# Display Fibonacci series up to 10 terms\n",
        "# Fibonacci sequence:\n",
        "# 0  1  1  2  3  5  8  13  21  34\n",
        "number = 10\n",
        "no1 = 0\n",
        "no2 = 1\n",
        "i=0\n",
        "print(no1)\n",
        "print(no2)\n",
        "while i<=7:\n",
        "  j=no1+no2\n",
        "  no1=no2\n",
        "  no2=j\n",
        "  i+=1\n",
        "  print(j)\n",
        "  \n",
        "\n",
        "\n",
        "  "
      ],
      "execution_count": null,
      "outputs": [
        {
          "output_type": "stream",
          "text": [
            "0\n",
            "1\n",
            "1\n",
            "2\n",
            "3\n",
            "5\n",
            "8\n",
            "13\n",
            "21\n",
            "34\n"
          ],
          "name": "stdout"
        }
      ]
    },
    {
      "cell_type": "code",
      "metadata": {
        "id": "C8CPG2p3C42r",
        "colab": {
          "base_uri": "https://localhost:8080/"
        },
        "outputId": "5bf4fab1-5ad8-4eca-ddda-773817dcca62"
      },
      "source": [
        "# Write a loop to find the factorial of any number\n",
        "number = 5\n",
        "i=number\n",
        "fact=1\n",
        "while i>=1:\n",
        "  fact = i*fact\n",
        "  i=i-1\n",
        "print(fact)\n"
      ],
      "execution_count": null,
      "outputs": [
        {
          "output_type": "stream",
          "text": [
            "120\n"
          ],
          "name": "stdout"
        }
      ]
    },
    {
      "cell_type": "code",
      "metadata": {
        "id": "JMjYbskODBg0",
        "colab": {
          "base_uri": "https://localhost:8080/"
        },
        "outputId": "c7d9b90d-eb1a-4525-b432-fa58377a2747"
      },
      "source": [
        "# Use a loop to display elements from a given list that are present at even index positions\n",
        "my_list = [10, 20, 30, 40, 50, 60, 70, 80, 90, 100]\n",
        "new_list = []\n",
        "i=0\n",
        "while i<=(len(my_list))-1:\n",
        "  if i%2==0:\n",
        "    new_list.append(my_list[i])\n",
        "    \n",
        "  i+=1\n",
        "print(new_list)\n"
      ],
      "execution_count": null,
      "outputs": [
        {
          "output_type": "stream",
          "text": [
            "[10, 30, 50, 70, 90]\n"
          ],
          "name": "stdout"
        }
      ]
    },
    {
      "cell_type": "code",
      "metadata": {
        "id": "Msqzn57LDFGb",
        "colab": {
          "base_uri": "https://localhost:8080/"
        },
        "outputId": "d5d674a3-30cc-4f14-ca5f-bf9e2342d276"
      },
      "source": [
        "# Display the cube of the number up to a given integer\n",
        "integr = 4\n",
        "i=1\n",
        "while i<=integr:\n",
        "  int_cube = i**3\n",
        "  print(int_cube)\n",
        "  i+=1"
      ],
      "execution_count": null,
      "outputs": [
        {
          "output_type": "stream",
          "text": [
            "1\n",
            "8\n",
            "27\n",
            "64\n"
          ],
          "name": "stdout"
        }
      ]
    },
    {
      "cell_type": "code",
      "metadata": {
        "id": "EPtOT3jyDHgV",
        "colab": {
          "base_uri": "https://localhost:8080/"
        },
        "outputId": "eb9621f6-5c21-4c55-9a79-bc7a394d9a89"
      },
      "source": [
        "# Find the sum of the series 2 +22 + 222 + 2222 + .. n terms\n",
        "n = 5\n",
        "i=1\n",
        "num = 0\n",
        "total_value = 0\n",
        "while i<=n:\n",
        "  num1=(num*10)+2\n",
        "  num=num1\n",
        "  print(num1,end=' ')\n",
        "  total_value=total_value+num1\n",
        "  i+=1\n",
        "\n",
        "print(total_value)\n",
        "\n",
        "\n"
      ],
      "execution_count": null,
      "outputs": [
        {
          "output_type": "stream",
          "text": [
            "2 22 222 2222 22222 24690\n"
          ],
          "name": "stdout"
        }
      ]
    },
    {
      "cell_type": "code",
      "metadata": {
        "id": "Q7Bi9Bz7DQyL",
        "colab": {
          "base_uri": "https://localhost:8080/"
        },
        "outputId": "11025662-12db-493b-c6b1-ac351b14c88c"
      },
      "source": [
        "# Print the following pattern\n",
        "# * \n",
        "# * * \n",
        "# * * * \n",
        "# * * * * \n",
        "# * * * * * \n",
        "# * * * * \n",
        "# * * * \n",
        "# * * \n",
        "# *\n",
        "\n",
        "n=5\n",
        "i=1\n",
        "while i<=n:\n",
        "  j=1\n",
        "  while j<=i:\n",
        "    print('*',end=' ')\n",
        "    j=j+1\n",
        "  print('\\n')\n",
        "  i=i+1\n",
        "\n",
        "n=5\n",
        "i=n\n",
        "while i>=1:\n",
        "  j=1\n",
        "  while j<i:\n",
        "    print('*',end=' ')\n",
        "    j=j+1\n",
        "  print('\\n')\n",
        "  i=i-1"
      ],
      "execution_count": null,
      "outputs": [
        {
          "output_type": "stream",
          "text": [
            "* \n",
            "\n",
            "* * \n",
            "\n",
            "* * * \n",
            "\n",
            "* * * * \n",
            "\n",
            "* * * * * \n",
            "\n",
            "* * * * \n",
            "\n",
            "* * * \n",
            "\n",
            "* * \n",
            "\n",
            "* \n",
            "\n",
            "\n",
            "\n"
          ],
          "name": "stdout"
        }
      ]
    },
    {
      "cell_type": "code",
      "metadata": {
        "id": "0b8Uk4g-Hn6b"
      },
      "source": [
        ""
      ],
      "execution_count": null,
      "outputs": []
    },
    {
      "cell_type": "code",
      "metadata": {
        "id": "IwUEh_5-DTlU",
        "colab": {
          "base_uri": "https://localhost:8080/"
        },
        "outputId": "5f533bfa-3e24-4572-fea7-f7816671f4ec"
      },
      "source": [
        "# Print the following pattern using for loop\n",
        "# 1 \n",
        "# 1 2 \n",
        "# 1 2 3 \n",
        "# 1 2 3 4 \n",
        "# 1 2 3 4 5\n",
        "\n",
        "i=1\n",
        "while i<=5:\n",
        "  j=1\n",
        "  while j<=i:\n",
        "    print(j,end=' ')\n",
        "    j=j+1\n",
        "  print('\\n')\n",
        "  i=i+1\n"
      ],
      "execution_count": null,
      "outputs": [
        {
          "output_type": "stream",
          "text": [
            "1 \n",
            "\n",
            "1 2 \n",
            "\n",
            "1 2 3 \n",
            "\n",
            "1 2 3 4 \n",
            "\n",
            "1 2 3 4 5 \n",
            "\n"
          ],
          "name": "stdout"
        }
      ]
    }
  ]
}